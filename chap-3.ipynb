{
 "cells": [
  {
   "cell_type": "code",
   "execution_count": 20,
   "metadata": {},
   "outputs": [
    {
     "name": "stdout",
     "output_type": "stream",
     "text": [
      "\n",
      "FAIL in (test-adder) (:10)\n",
      "expected: (= (add2 26) 20)\n",
      "  actual: (not (= 28 20))\n"
     ]
    },
    {
     "data": {
      "text/plain": [
       "null"
      ]
     },
     "execution_count": 20,
     "metadata": {},
     "output_type": "execute_result"
    }
   ],
   "source": [
    "(ns your-test-namespace\n",
    "  (:use clojure.test))\n",
    "\n",
    ";; (defn add2 [x] ()) ; stub\n",
    "\n",
    "(defn add2 [x] (+ x 2))\n",
    "  \n",
    "  \n",
    "(deftest test-adder\n",
    "    (is (= (add2 26) 20))\n",
    "    (is (= (add2 2)  4)))\n",
    "  \n",
    "  \n",
    "  \n",
    "  (test-adder)"
   ]
  },
  {
   "cell_type": "code",
   "execution_count": 8,
   "metadata": {},
   "outputs": [
    {
     "data": {
      "text/plain": [
       "[1, 4, 3, 2, 5]"
      ]
     },
     "execution_count": 8,
     "metadata": {},
     "output_type": "execute_result"
    }
   ],
   "source": [
    "(require '(clojure [string  :as str]\n",
    "                   [set     :as set]))\n",
    "\n",
    "(set/union #{1 2 3} #{3 4 5})  "
   ]
  },
  {
   "cell_type": "code",
   "execution_count": 3,
   "metadata": {},
   "outputs": [
    {
     "ename": "java.lang.RuntimeException",
     "evalue": " Reader tag must be a symbol",
     "output_type": "error",
     "traceback": [
      "\u001b[1;31mjava.lang.RuntimeException: Reader tag must be a symbol\u001b[0;0m",
      "\u001b[1;31m\tat clojure.lang.LispReader$CtorReader.invoke(LispReader.java:1406)\u001b[0;0m",
      "\u001b[1;31m\tat clojure.lang.LispReader$DispatchReader.invoke(LispReader.java:836)\u001b[0;0m",
      "\u001b[1;31m\tat clojure.lang.LispReader.read(LispReader.java:275)\u001b[0;0m",
      "\u001b[1;31m\tat clojure.lang.LispReader.readDelimitedList(LispReader.java:1384)\u001b[0;0m",
      "\u001b[1;31m\tat clojure.lang.LispReader$ListReader.invoke(LispReader.java:1232)\u001b[0;0m",
      "\u001b[1;31m\tat clojure.lang.LispReader.read(LispReader.java:275)\u001b[0;0m",
      "\u001b[1;31m\tat clojure.lang.LispReader.read(LispReader.java:206)\u001b[0;0m",
      "\u001b[1;31m\tat clojure.lang.Compiler.load(Compiler.java:7508)\u001b[0;0m",
      "\u001b[1;31m\tat clojure.lang.Compiler.load(Compiler.java:7461)\u001b[0;0m",
      "\u001b[1;31m\tat clojure.core$load_reader.invokeStatic(core.clj:4053)\u001b[0;0m",
      "\u001b[1;31m\tat clojure.core$load_string.invokeStatic(core.clj:4055)\u001b[0;0m",
      "\u001b[1;31m\tat clojure.core$load_string.invoke(core.clj:4055)\u001b[0;0m",
      "\u001b[1;31m\tat beaker_clojure_shell_046a1632_a086_456c_b731_319e131c0ece$run_str_046a1632_a086_456c_b731_319e131c0ece.invokeStatic(Unknown Source)\u001b[0;0m",
      "\u001b[1;31m\tat beaker_clojure_shell_046a1632_a086_456c_b731_319e131c0ece$run_str_046a1632_a086_456c_b731_319e131c0ece.invoke(Unknown Source)\u001b[0;0m",
      "\u001b[1;31m\tat clojure.lang.Var.invoke(Var.java:381)\u001b[0;0m",
      "\u001b[0;31m\tat com.twosigma.beakerx.clojure.evaluator.ClojureEvaluator.runCode(ClojureEvaluator.java:164)\u001b[0;0m",
      "\u001b[0;31m\tat com.twosigma.beakerx.clojure.evaluator.ClojureCodeRunner.call(ClojureCodeRunner.java:47)\u001b[0;0m",
      "\u001b[0;31m\tat com.twosigma.beakerx.clojure.evaluator.ClojureCodeRunner.call(ClojureCodeRunner.java:28)\u001b[0;0m",
      "\u001b[0;31m\tat java.base/java.util.concurrent.FutureTask.run(Unknown Source)\u001b[0;0m",
      "\u001b[0;31m\tat java.base/java.util.concurrent.ThreadPoolExecutor.runWorker(Unknown Source)\u001b[0;0m",
      "\u001b[0;31m\tat java.base/java.util.concurrent.ThreadPoolExecutor$Worker.run(Unknown Source)\u001b[0;0m",
      "\u001b[0;31m\tat java.base/java.lang.Thread.run(Unknown Source)\u001b[0;0m"
     ]
    }
   ],
   "source": []
  },
  {
   "cell_type": "code",
   "execution_count": 12,
   "metadata": {},
   "outputs": [
    {
     "data": {
      "text/plain": [
       "#'beaker_clojure_shell_a1b29ada-5947-4c3b-a23d-3d688bbedc7b/f1"
      ]
     },
     "execution_count": 12,
     "metadata": {},
     "output_type": "execute_result"
    }
   ],
   "source": [
    "(defn f1\n",
    "\"devide n by 3 and add 2\"\n",
    "[n]\n",
    "\n",
    "(+ (/ n 0.0) 2)\n",
    ")"
   ]
  },
  {
   "cell_type": "code",
   "execution_count": 13,
   "metadata": {},
   "outputs": [
    {
     "data": {
      "text/plain": [
       "Infinity"
      ]
     },
     "execution_count": 13,
     "metadata": {},
     "output_type": "execute_result"
    }
   ],
   "source": [
    "(f1 5)"
   ]
  },
  {
   "cell_type": "code",
   "execution_count": null,
   "metadata": {},
   "outputs": [],
   "source": []
  }
 ],
 "metadata": {
  "kernelspec": {
   "display_name": "Clojure",
   "language": "clojure",
   "name": "clojure"
  },
  "language_info": {
   "codemirror_mode": "Clojure",
   "file_extension": ".clj",
   "mimetype": "text/x-clojure",
   "name": "Clojure",
   "nbconverter_exporter": "",
   "version": "1.9.0"
  },
  "toc": {
   "base_numbering": 1,
   "nav_menu": {},
   "number_sections": false,
   "sideBar": false,
   "skip_h1_title": false,
   "title_cell": "Table of Contents",
   "title_sidebar": "Contents",
   "toc_cell": false,
   "toc_position": {},
   "toc_section_display": false,
   "toc_window_display": false
  }
 },
 "nbformat": 4,
 "nbformat_minor": 2
}
