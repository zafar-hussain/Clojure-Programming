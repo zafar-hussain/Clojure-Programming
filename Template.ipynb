{
 "cells": [
  {
   "cell_type": "code",
   "execution_count": 1,
   "metadata": {},
   "outputs": [
    {
     "name": "stdout",
     "output_type": "stream",
     "text": [
      "\n",
      "FAIL in (test-adder) (:10)\n",
      "expected: (= 28 (add2 2))\n",
      "  actual: (not (= 28 4))\n",
      "\n",
      "FAIL in (test-adder) (:11)\n",
      "expected: (= 2 (add2 2))\n",
      "  actual: (not (= 2 4))\n"
     ]
    },
    {
     "data": {
      "text/plain": [
       "null"
      ]
     },
     "execution_count": 1,
     "metadata": {},
     "output_type": "execute_result"
    }
   ],
   "source": [
    "(ns your-test-namespace\n",
    "  (:use clojure.test))\n",
    "\n",
    ";; (defn add2 [x] ()) ; stub\n",
    "\n",
    "(defn add2 [x] (+ x 2))\n",
    "  \n",
    "  \n",
    "(deftest test-adder\n",
    "    (is (= 28  (add2 2)))\n",
    "    (is (= 2   (add2 2))))\n",
    "  \n",
    "  \n",
    "  \n",
    "  (test-adder)"
   ]
  },
  {
   "cell_type": "code",
   "execution_count": null,
   "metadata": {},
   "outputs": [],
   "source": []
  }
 ],
 "metadata": {
  "kernelspec": {
   "display_name": "Clojure",
   "language": "clojure",
   "name": "clojure"
  },
  "language_info": {
   "codemirror_mode": "Clojure",
   "file_extension": ".clj",
   "mimetype": "text/x-clojure",
   "name": "Clojure",
   "nbconverter_exporter": "",
   "version": "1.9.0"
  },
  "toc": {
   "base_numbering": 1,
   "nav_menu": {},
   "number_sections": false,
   "sideBar": false,
   "skip_h1_title": false,
   "title_cell": "Table of Contents",
   "title_sidebar": "Contents",
   "toc_cell": false,
   "toc_position": {},
   "toc_section_display": false,
   "toc_window_display": false
  }
 },
 "nbformat": 4,
 "nbformat_minor": 2
}
