{
 "cells": [
  {
   "cell_type": "code",
   "execution_count": 1,
   "metadata": {},
   "outputs": [
    {
     "name": "stdout",
     "output_type": "stream",
     "text": [
      "\n",
      "FAIL in (test-adder) (:10)\n",
      "expected: (= 28 (add2 2))\n",
      "  actual: (not (= 28 4))\n",
      "\n",
      "FAIL in (test-adder) (:11)\n",
      "expected: (= 2 (add2 2))\n",
      "  actual: (not (= 2 4))\n"
     ]
    },
    {
     "data": {
      "text/plain": [
       "null"
      ]
     },
     "execution_count": 1,
     "metadata": {},
     "output_type": "execute_result"
    }
   ],
   "source": [
    "(ns your-test-namespace\n",
    "  (:use clojure.test))\n",
    "\n",
    ";; (defn add2 [x] ()) ; stub\n",
    "\n",
    "(defn add2 [x] (+ x 2))\n",
    "  \n",
    "  \n",
    "(deftest test-adder\n",
    "    (is (= 28  (add2 2)))\n",
    "    (is (= 2   (add2 2))))\n",
    "  \n",
    "  \n",
    "  \n",
    "  (test-adder)"
   ]
  },
  {
   "cell_type": "code",
   "execution_count": 13,
   "metadata": {},
   "outputs": [
    {
     "data": {
      "text/plain": [
       "null"
      ]
     },
     "execution_count": 13,
     "metadata": {},
     "output_type": "execute_result"
    }
   ],
   "source": [
    "(require 'clojure.set)\n",
    ";;(clojure.set/union #[1 2 3] #{3 4 5})"
   ]
  },
  {
   "cell_type": "code",
   "execution_count": 15,
   "metadata": {},
   "outputs": [
    {
     "data": {
      "text/plain": [
       "[1, 4, 2, 5]"
      ]
     },
     "execution_count": 15,
     "metadata": {},
     "output_type": "execute_result"
    }
   ],
   "source": [
    "(clojure.set/union #{1 2 4} #{2 4 5})"
   ]
  },
  {
   "cell_type": "code",
   "execution_count": 24,
   "metadata": {},
   "outputs": [
    {
     "ename": "java.io.FileNotFoundException",
     "evalue": " Could not locate quil/core__init.class or quil/core.clj on classpath.",
     "output_type": "error",
     "traceback": [
      "\u001b[1;31mjava.io.FileNotFoundException: Could not locate quil/core__init.class or quil/core.clj on classpath.\u001b[0;0m",
      "\u001b[1;31m\tat clojure.lang.RT.load(RT.java:463)\u001b[0;0m",
      "\u001b[1;31m\tat clojure.lang.RT.load(RT.java:426)\u001b[0;0m",
      "\u001b[1;31m\tat clojure.core$load$fn__6548.invoke(core.clj:6046)\u001b[0;0m",
      "\u001b[1;31m\tat clojure.core$load.invokeStatic(core.clj:6045)\u001b[0;0m",
      "\u001b[1;31m\tat clojure.core$load.doInvoke(core.clj:6029)\u001b[0;0m",
      "\u001b[1;31m\tat clojure.lang.RestFn.invoke(RestFn.java:408)\u001b[0;0m",
      "\u001b[1;31m\tat clojure.core$load_one.invokeStatic(core.clj:5848)\u001b[0;0m",
      "\u001b[1;31m\tat clojure.core$load_one.invoke(core.clj:5843)\u001b[0;0m",
      "\u001b[1;31m\tat clojure.core$load_lib$fn__6493.invoke(core.clj:5888)\u001b[0;0m",
      "\u001b[1;31m\tat clojure.core$load_lib.invokeStatic(core.clj:5887)\u001b[0;0m",
      "\u001b[1;31m\tat clojure.core$load_lib.doInvoke(core.clj:5868)\u001b[0;0m",
      "\u001b[1;31m\tat clojure.lang.RestFn.applyTo(RestFn.java:142)\u001b[0;0m",
      "\u001b[1;31m\tat clojure.core$apply.invokeStatic(core.clj:659)\u001b[0;0m",
      "\u001b[1;31m\tat clojure.core$load_libs.invokeStatic(core.clj:5925)\u001b[0;0m",
      "\u001b[1;31m\tat clojure.core$load_libs.doInvoke(core.clj:5909)\u001b[0;0m",
      "\u001b[1;31m\tat clojure.lang.RestFn.applyTo(RestFn.java:137)\u001b[0;0m",
      "\u001b[1;31m\tat clojure.core$apply.invokeStatic(core.clj:659)\u001b[0;0m",
      "\u001b[1;31m\tat clojure.core$require.invokeStatic(core.clj:5947)\u001b[0;0m",
      "\u001b[1;31m\tat clojure.core$require.doInvoke(core.clj:5947)\u001b[0;0m",
      "\u001b[1;31m\tat clojure.lang.RestFn.invoke(RestFn.java:421)\u001b[0;0m",
      "\u001b[1;31m\tat my_sketch.core$eval207$loading__6434__auto____208.invoke(Unknown Source)\u001b[0;0m",
      "\u001b[1;31m\tat my_sketch.core$eval207.invokeStatic(Unknown Source)\u001b[0;0m",
      "\u001b[1;31m\tat my_sketch.core$eval207.invoke(Unknown Source)\u001b[0;0m",
      "\u001b[1;31m\tat clojure.lang.Compiler.eval(Compiler.java:7062)\u001b[0;0m",
      "\u001b[1;31m\tat clojure.lang.Compiler.eval(Compiler.java:7051)\u001b[0;0m",
      "\u001b[1;31m\tat clojure.lang.Compiler.load(Compiler.java:7514)\u001b[0;0m",
      "\u001b[1;31m\tat clojure.lang.Compiler.load(Compiler.java:7461)\u001b[0;0m",
      "\u001b[1;31m\tat clojure.core$load_reader.invokeStatic(core.clj:4053)\u001b[0;0m",
      "\u001b[1;31m\tat clojure.core$load_string.invokeStatic(core.clj:4055)\u001b[0;0m",
      "\u001b[1;31m\tat clojure.core$load_string.invoke(core.clj:4055)\u001b[0;0m",
      "\u001b[1;31m\tat beaker_clojure_shell_35c402b9_da52_464f_9b80_495b37a35a25$run_str_35c402b9_da52_464f_9b80_495b37a35a25.invokeStatic(Unknown Source)\u001b[0;0m",
      "\u001b[1;31m\tat beaker_clojure_shell_35c402b9_da52_464f_9b80_495b37a35a25$run_str_35c402b9_da52_464f_9b80_495b37a35a25.invoke(Unknown Source)\u001b[0;0m",
      "\u001b[1;31m\tat clojure.lang.Var.invoke(Var.java:381)\u001b[0;0m",
      "\u001b[0;31m\tat com.twosigma.beakerx.clojure.evaluator.ClojureEvaluator.runCode(ClojureEvaluator.java:164)\u001b[0;0m",
      "\u001b[0;31m\tat com.twosigma.beakerx.clojure.evaluator.ClojureCodeRunner.call(ClojureCodeRunner.java:47)\u001b[0;0m",
      "\u001b[0;31m\tat com.twosigma.beakerx.clojure.evaluator.ClojureCodeRunner.call(ClojureCodeRunner.java:28)\u001b[0;0m",
      "\u001b[0;31m\tat java.base/java.util.concurrent.FutureTask.run(Unknown Source)\u001b[0;0m",
      "\u001b[0;31m\tat java.base/java.util.concurrent.ThreadPoolExecutor.runWorker(Unknown Source)\u001b[0;0m",
      "\u001b[0;31m\tat java.base/java.util.concurrent.ThreadPoolExecutor$Worker.run(Unknown Source)\u001b[0;0m",
      "\u001b[0;31m\tat java.base/java.lang.Thread.run(Unknown Source)\u001b[0;0m"
     ]
    }
   ],
   "source": [
    "(ns my-sketch.core\n",
    "  (:require [quil.core :as q]\n",
    "            [quil.middleware :as m]))"
   ]
  },
  {
   "cell_type": "code",
   "execution_count": 19,
   "metadata": {},
   "outputs": [
    {
     "ename": "java.io.FileNotFoundException",
     "evalue": " Could not locate quil_2/7/1/core__init.class or quil_2/7/1/core.clj on classpath. Please check that namespaces with dashes use underscores in the Clojure file name.",
     "output_type": "error",
     "traceback": [
      "\u001b[1;31mjava.io.FileNotFoundException: Could not locate quil_2/7/1/core__init.class or quil_2/7/1/core.clj on classpath. Please check that namespaces with dashes use underscores in the Clojure file name.\u001b[0;0m",
      "\u001b[1;31m\tat clojure.lang.RT.load(RT.java:463)\u001b[0;0m",
      "\u001b[1;31m\tat clojure.lang.RT.load(RT.java:426)\u001b[0;0m",
      "\u001b[1;31m\tat clojure.core$load$fn__6548.invoke(core.clj:6046)\u001b[0;0m",
      "\u001b[1;31m\tat clojure.core$load.invokeStatic(core.clj:6045)\u001b[0;0m",
      "\u001b[1;31m\tat clojure.core$load.doInvoke(core.clj:6029)\u001b[0;0m",
      "\u001b[1;31m\tat clojure.lang.RestFn.invoke(RestFn.java:408)\u001b[0;0m",
      "\u001b[1;31m\tat clojure.core$load_one.invokeStatic(core.clj:5848)\u001b[0;0m",
      "\u001b[1;31m\tat clojure.core$load_one.invoke(core.clj:5843)\u001b[0;0m",
      "\u001b[1;31m\tat clojure.core$load_lib$fn__6493.invoke(core.clj:5888)\u001b[0;0m",
      "\u001b[1;31m\tat clojure.core$load_lib.invokeStatic(core.clj:5887)\u001b[0;0m",
      "\u001b[1;31m\tat clojure.core$load_lib.doInvoke(core.clj:5868)\u001b[0;0m",
      "\u001b[1;31m\tat clojure.lang.RestFn.applyTo(RestFn.java:142)\u001b[0;0m",
      "\u001b[1;31m\tat clojure.core$apply.invokeStatic(core.clj:659)\u001b[0;0m",
      "\u001b[1;31m\tat clojure.core$load_libs.invokeStatic(core.clj:5929)\u001b[0;0m",
      "\u001b[1;31m\tat clojure.core$load_libs.doInvoke(core.clj:5909)\u001b[0;0m",
      "\u001b[1;31m\tat clojure.lang.RestFn.applyTo(RestFn.java:137)\u001b[0;0m",
      "\u001b[1;31m\tat clojure.core$apply.invokeStatic(core.clj:659)\u001b[0;0m",
      "\u001b[1;31m\tat clojure.core$require.invokeStatic(core.clj:5947)\u001b[0;0m",
      "\u001b[1;31m\tat clojure.core$require.doInvoke(core.clj:5947)\u001b[0;0m",
      "\u001b[1;31m\tat clojure.lang.RestFn.invoke(RestFn.java:408)\u001b[0;0m",
      "\u001b[1;31m\tat beaker_clojure_shell_35c402b9_da52_464f_9b80_495b37a35a25$eval194.invokeStatic(Unknown Source)\u001b[0;0m",
      "\u001b[1;31m\tat beaker_clojure_shell_35c402b9_da52_464f_9b80_495b37a35a25$eval194.invoke(Unknown Source)\u001b[0;0m",
      "\u001b[1;31m\tat clojure.lang.Compiler.eval(Compiler.java:7062)\u001b[0;0m",
      "\u001b[1;31m\tat clojure.lang.Compiler.load(Compiler.java:7514)\u001b[0;0m",
      "\u001b[1;31m\tat clojure.lang.Compiler.load(Compiler.java:7461)\u001b[0;0m",
      "\u001b[1;31m\tat clojure.core$load_reader.invokeStatic(core.clj:4053)\u001b[0;0m",
      "\u001b[1;31m\tat clojure.core$load_string.invokeStatic(core.clj:4055)\u001b[0;0m",
      "\u001b[1;31m\tat clojure.core$load_string.invoke(core.clj:4055)\u001b[0;0m",
      "\u001b[1;31m\tat beaker_clojure_shell_35c402b9_da52_464f_9b80_495b37a35a25$run_str_35c402b9_da52_464f_9b80_495b37a35a25.invokeStatic(Unknown Source)\u001b[0;0m",
      "\u001b[1;31m\tat beaker_clojure_shell_35c402b9_da52_464f_9b80_495b37a35a25$run_str_35c402b9_da52_464f_9b80_495b37a35a25.invoke(Unknown Source)\u001b[0;0m",
      "\u001b[1;31m\tat clojure.lang.Var.invoke(Var.java:381)\u001b[0;0m",
      "\u001b[0;31m\tat com.twosigma.beakerx.clojure.evaluator.ClojureEvaluator.runCode(ClojureEvaluator.java:164)\u001b[0;0m",
      "\u001b[0;31m\tat com.twosigma.beakerx.clojure.evaluator.ClojureCodeRunner.call(ClojureCodeRunner.java:47)\u001b[0;0m",
      "\u001b[0;31m\tat com.twosigma.beakerx.clojure.evaluator.ClojureCodeRunner.call(ClojureCodeRunner.java:28)\u001b[0;0m",
      "\u001b[0;31m\tat java.base/java.util.concurrent.FutureTask.run(Unknown Source)\u001b[0;0m",
      "\u001b[0;31m\tat java.base/java.util.concurrent.ThreadPoolExecutor.runWorker(Unknown Source)\u001b[0;0m",
      "\u001b[0;31m\tat java.base/java.util.concurrent.ThreadPoolExecutor$Worker.run(Unknown Source)\u001b[0;0m",
      "\u001b[0;31m\tat java.base/java.lang.Thread.run(Unknown Source)\u001b[0;0m"
     ]
    }
   ],
   "source": [
    ";;(require '(clojure [string  :as str]\n",
    ";;                   [set     :as set]))\n",
    "\n",
    "\n",
    "(require '(quil-2.7.1 [core :as q]))"
   ]
  },
  {
   "cell_type": "code",
   "execution_count": null,
   "metadata": {},
   "outputs": [],
   "source": []
  }
 ],
 "metadata": {
  "kernelspec": {
   "display_name": "Clojure",
   "language": "clojure",
   "name": "clojure"
  },
  "language_info": {
   "codemirror_mode": "Clojure",
   "file_extension": ".clj",
   "mimetype": "text/x-clojure",
   "name": "Clojure",
   "nbconverter_exporter": "",
   "version": "1.9.0"
  },
  "toc": {
   "base_numbering": 1,
   "nav_menu": {},
   "number_sections": false,
   "sideBar": false,
   "skip_h1_title": false,
   "title_cell": "Table of Contents",
   "title_sidebar": "Contents",
   "toc_cell": false,
   "toc_position": {},
   "toc_section_display": false,
   "toc_window_display": false
  }
 },
 "nbformat": 4,
 "nbformat_minor": 2
}
